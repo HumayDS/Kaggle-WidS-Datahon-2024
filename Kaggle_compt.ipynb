{
  "nbformat": 4,
  "nbformat_minor": 0,
  "metadata": {
    "colab": {
      "provenance": [],
      "authorship_tag": "ABX9TyMDbIoDLrbGR2bH7YnM5hRO",
      "include_colab_link": true
    },
    "kernelspec": {
      "name": "python3",
      "display_name": "Python 3"
    },
    "language_info": {
      "name": "python"
    }
  },
  "cells": [
    {
      "cell_type": "markdown",
      "metadata": {
        "id": "view-in-github",
        "colab_type": "text"
      },
      "source": [
        "<a href=\"https://colab.research.google.com/github/HumayDS/Kaggle-WidS-Datahon-2024/blob/main/Kaggle_compt.ipynb\" target=\"_parent\"><img src=\"https://colab.research.google.com/assets/colab-badge.svg\" alt=\"Open In Colab\"/></a>"
      ]
    },
    {
      "cell_type": "code",
      "execution_count": null,
      "metadata": {
        "id": "cBLJXWZT7C6x",
        "colab": {
          "base_uri": "https://localhost:8080/"
        },
        "outputId": "973c9309-e491-4c62-eb59-45403a02ac3b"
      },
      "outputs": [
        {
          "output_type": "stream",
          "name": "stdout",
          "text": [
            "Notebook last run (end-to-end): 2024-04-16 07:38:23.509084\n"
          ]
        }
      ],
      "source": [
        "# Timestamp\n",
        "import datetime\n",
        "print(f\"Notebook last run (end-to-end): {datetime.datetime.now()}\")"
      ]
    },
    {
      "cell_type": "code",
      "source": [
        "import pandas as pd\n",
        "import numpy as np\n",
        "import matplotlib.pyplot as plt"
      ],
      "metadata": {
        "id": "o6JNrK9o11px"
      },
      "execution_count": null,
      "outputs": []
    },
    {
      "cell_type": "code",
      "source": [
        "train = pd.read_csv('/content/sample_data/california_housing_train.csv')\n",
        "test = pd.read_csv('https://raw.githubusercontent.com/HumayDS/Kaggle-WidS-Datahon-2024/main/test.csv')"
      ],
      "metadata": {
        "id": "nC_K8w4Z7GPv"
      },
      "execution_count": 37,
      "outputs": []
    },
    {
      "cell_type": "code",
      "source": [
        "desc = pd.DataFrame(index = list(train))\n",
        "desc['type'] = train.dtypes\n",
        "desc['count'] = train.count()\n",
        "desc['nunique'] = train.nunique()\n",
        "desc['%unique'] = desc['nunique'] /len(train) * 100\n",
        "desc['null'] = train.isnull().sum()\n",
        "desc['%null'] = desc['null'] / len(train) * 100\n",
        "desc = pd.concat([desc,train.describe().T.drop('count',axis=1)],axis=1)\n",
        "desc = desc.sort_values(by=['type','null']).style.background_gradient(cmap='YlOrBr')\\\n",
        "    .bar(subset=['mean'],color='green')\\\n",
        "    .bar(subset=['max'],color='red')\\\n",
        "    .bar(subset=['min'], color='purple')"
      ],
      "metadata": {
        "id": "VlvRsZyl7OGH"
      },
      "execution_count": 38,
      "outputs": []
    }
  ]
}